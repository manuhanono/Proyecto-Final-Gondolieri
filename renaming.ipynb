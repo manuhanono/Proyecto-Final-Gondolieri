{
 "cells": [
  {
   "cell_type": "code",
   "execution_count": 2,
   "metadata": {},
   "outputs": [
    {
     "name": "stdout",
     "output_type": "stream",
     "text": [
      "Renombrado: WhatsApp Image 2024-09-05 at 15.04.22 (1).jpeg -> 1-MJJ-.jpeg\n",
      "Renombrado: WhatsApp Image 2024-09-05 at 15.04.29 (1).jpeg -> 2-MJJ-.jpeg\n",
      "Renombrado: WhatsApp Image 2024-09-05 at 15.04.28 (1).jpeg -> 3-MJJ-.jpeg\n",
      "Renombrado: WhatsApp Image 2024-09-05 at 15.04.46.jpeg -> 4-MJJ-.jpeg\n",
      "Renombrado: WhatsApp Image 2024-09-05 at 15.04.38 (2).jpeg -> 5-MJJ-.jpeg\n",
      "Renombrado: WhatsApp Image 2024-09-05 at 15.04.35 (1).jpeg -> 6-MJJ-.jpeg\n",
      "Renombrado: WhatsApp Image 2024-09-05 at 15.04.47.jpeg -> 7-MJJ-.jpeg\n",
      "Renombrado: WhatsApp Image 2024-09-05 at 15.04.43 (1).jpeg -> 8-MJJ-.jpeg\n",
      "Renombrado: WhatsApp Image 2024-09-05 at 15.04.42 (1).jpeg -> 9-MJJ-.jpeg\n",
      "Renombrado: WhatsApp Image 2024-09-05 at 15.04.30.jpeg -> 10-MJJ-.jpeg\n",
      "Renombrado: WhatsApp Image 2024-09-05 at 15.04.40.jpeg -> 11-MJJ-.jpeg\n",
      "Renombrado: WhatsApp Image 2024-09-05 at 15.04.44 (1).jpeg -> 12-MJJ-.jpeg\n",
      "Renombrado: WhatsApp Image 2024-09-05 at 15.04.45 (1).jpeg -> 13-MJJ-.jpeg\n",
      "Renombrado: WhatsApp Image 2024-09-05 at 15.04.39 (1).jpeg -> 14-MJJ-.jpeg\n",
      "Renombrado: WhatsApp Image 2024-09-05 at 15.04.38 (1).jpeg -> 15-MJJ-.jpeg\n",
      "Renombrado: WhatsApp Image 2024-09-05 at 15.04.37.jpeg -> 16-MJJ-.jpeg\n",
      "Renombrado: WhatsApp Image 2024-09-05 at 15.04.28 (2).jpeg -> 17-MJJ-.jpeg\n",
      "Renombrado: WhatsApp Image 2024-09-05 at 15.04.21.jpeg -> 18-MJJ-.jpeg\n",
      "Renombrado: WhatsApp Image 2024-09-05 at 15.04.20.jpeg -> 19-MJJ-.jpeg\n",
      "Renombrado: WhatsApp Image 2024-09-05 at 15.04.43 (2).jpeg -> 20-MJJ-.jpeg\n",
      "Renombrado: WhatsApp Image 2024-09-05 at 15.04.42 (2).jpeg -> 21-MJJ-.jpeg\n",
      "Renombrado: WhatsApp Image 2024-09-05 at 15.04.36.jpeg -> 22-MJJ-.jpeg\n",
      "Renombrado: WhatsApp Image 2024-09-05 at 15.04.41.jpeg -> 23-MJJ-.jpeg\n",
      "Renombrado: WhatsApp Image 2024-09-05 at 15.04.39.jpeg -> 24-MJJ-.jpeg\n",
      "Renombrado: WhatsApp Image 2024-09-05 at 15.04.42.jpeg -> 25-MJJ-.jpeg\n",
      "Renombrado: WhatsApp Image 2024-09-05 at 15.04.23.jpeg -> 26-MJJ-.jpeg\n",
      "Renombrado: WhatsApp Image 2024-09-05 at 15.04.37 (1).jpeg -> 27-MJJ-.jpeg\n",
      "Renombrado: WhatsApp Image 2024-09-05 at 15.04.36 (1).jpeg -> 28-MJJ-.jpeg\n",
      "Renombrado: WhatsApp Image 2024-09-05 at 15.04.35.jpeg -> 29-MJJ-.jpeg\n",
      "Renombrado: WhatsApp Image 2024-09-05 at 15.04.40 (1).jpeg -> 30-MJJ-.jpeg\n",
      "Renombrado: WhatsApp Image 2024-09-05 at 15.04.41 (1).jpeg -> 31-MJJ-.jpeg\n",
      "Renombrado: WhatsApp Image 2024-09-05 at 15.04.34.jpeg -> 32-MJJ-.jpeg\n",
      "Renombrado: WhatsApp Image 2024-09-05 at 15.04.22.jpeg -> 33-MJJ-.jpeg\n",
      "Renombrado: WhatsApp Image 2024-09-05 at 15.04.43.jpeg -> 34-MJJ-.jpeg\n",
      "Renombrado: WhatsApp Image 2024-09-05 at 15.04.38.jpeg -> 35-MJJ-.jpeg\n",
      "Renombrado: WhatsApp Image 2024-09-05 at 15.04.48.jpeg -> 36-MJJ-.jpeg\n",
      "Renombrado: WhatsApp Image 2024-09-05 at 15.04.29.jpeg -> 37-MJJ-.jpeg\n",
      "Renombrado: WhatsApp Image 2024-09-05 at 15.04.40 (2).jpeg -> 38-MJJ-.jpeg\n",
      "Renombrado: WhatsApp Image 2024-09-05 at 15.04.44.jpeg -> 39-MJJ-.jpeg\n",
      "Renombrado: WhatsApp Image 2024-09-05 at 15.04.36 (2).jpeg -> 40-MJJ-.jpeg\n",
      "Renombrado: WhatsApp Image 2024-09-05 at 15.04.45.jpeg -> 41-MJJ-.jpeg\n",
      "Renombrado: WhatsApp Image 2024-09-05 at 15.04.28.jpeg -> 42-MJJ-.jpeg\n",
      "Renombrado de archivos completado.\n"
     ]
    }
   ],
   "source": [
    "import os\n",
    "\n",
    "# Ruta de la carpeta donde están las imágenes\n",
    "carpeta = '/Users/manu/Downloads/Mayo-Junio-Julio (teoricamente) 2'  # Reemplaza con la ruta de tu carpeta\n",
    "\n",
    "# Inicializar el ID en 5\n",
    "id_inicial = 1\n",
    "\n",
    "# Obtener la lista de archivos en la carpeta\n",
    "archivos = os.listdir(carpeta)\n",
    "\n",
    "# Filtrar los archivos que son imágenes (puedes modificar esta parte según tus necesidades)\n",
    "imagenes = [archivo for archivo in archivos if archivo.endswith('.jpeg')]\n",
    "\n",
    "# Renombrar los archivos\n",
    "for idx, archivo in enumerate(imagenes):\n",
    "    # Construir el nuevo nombre de archivo\n",
    "    nuevo_nombre = f\"{id_inicial + idx}-MJJ-.jpeg\"\n",
    "    \n",
    "    # Obtener la ruta completa de los archivos\n",
    "    ruta_vieja = os.path.join(carpeta, archivo)\n",
    "    ruta_nueva = os.path.join(carpeta, nuevo_nombre)\n",
    "    \n",
    "    # Renombrar el archivo\n",
    "    os.rename(ruta_vieja, ruta_nueva)\n",
    "    print(f\"Renombrado: {archivo} -> {nuevo_nombre}\")\n",
    "\n",
    "print(\"Renombrado de archivos completado.\")\n"
   ]
  }
 ],
 "metadata": {
  "kernelspec": {
   "display_name": "Python 3",
   "language": "python",
   "name": "python3"
  },
  "language_info": {
   "codemirror_mode": {
    "name": "ipython",
    "version": 3
   },
   "file_extension": ".py",
   "mimetype": "text/x-python",
   "name": "python",
   "nbconvert_exporter": "python",
   "pygments_lexer": "ipython3",
   "version": "3.9.6"
  }
 },
 "nbformat": 4,
 "nbformat_minor": 2
}
